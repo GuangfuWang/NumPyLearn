{
 "cells": [
  {
   "cell_type": "markdown",
   "metadata": {},
   "source": [
    "#### this file is used for learning data type conversion between pytorch and numpy"
   ]
  },
  {
   "cell_type": "code",
   "execution_count": 11,
   "metadata": {},
   "outputs": [
    {
     "name": "stdout",
     "output_type": "stream",
     "text": [
      "(1, 1, 3)\n",
      "deep copy from_numpy a:\n",
      "[[[10.  5.  5.  5.  5.]\n",
      "  [ 5.  5.  5.  5.  5.]\n",
      "  [ 5.  5.  5.  5.  5.]]\n",
      "\n",
      " [[ 5.  5.  5.  5.  5.]\n",
      "  [ 5.  5.  5.  5.  5.]\n",
      "  [ 5.  5.  5.  5.  5.]]\n",
      "\n",
      " [[ 5.  5.  5.  5.  5.]\n",
      "  [ 5.  5.  5.  5.  5.]\n",
      "  [ 5.  5.  5.  5.  5.]]]\n",
      "deep copy form_numpy c:\n",
      "tensor([[[10.,  5.,  5.,  5.,  5.],\n",
      "         [ 5.,  5.,  5.,  5.,  5.],\n",
      "         [ 5.,  5.,  5.,  5.,  5.]],\n",
      "\n",
      "        [[ 5.,  5.,  5.,  5.,  5.],\n",
      "         [ 5.,  5.,  5.,  5.,  5.],\n",
      "         [ 5.,  5.,  5.,  5.,  5.]],\n",
      "\n",
      "        [[ 5.,  5.,  5.,  5.,  5.],\n",
      "         [ 5.,  5.,  5.,  5.,  5.],\n",
      "         [ 5.,  5.,  5.,  5.,  5.]]])\n"
     ]
    }
   ],
   "source": [
    "import numpy as np\n",
    "import torch as torch\n",
    "\n",
    "# converting torch tensor to numpy array.\n",
    "a_tensor = torch.tensor([[[1, 2, 3]]])\n",
    "a = a_tensor.numpy()\n",
    "print(a.shape)\n",
    "\n",
    "# converting numpy array to torch tensor\n",
    "# be careful this from numpy method is shadow copy.\n",
    "a = np.full((3, 3, 5), 5.0, dtype=np.float32)\n",
    "c = torch.from_numpy(a)\n",
    "c[0,0,0]=10.0\n",
    "print(\"shadow copy from_numpy a:\")\n",
    "print(a)\n",
    "print(\"shadow copy form_numpy c:\")\n",
    "print(c)\n",
    "\n",
    "# deep copy from numpy to tensor\n",
    "d = torch.tensor(a)\n",
    "d[0, 0, 0] = -1.0\n",
    "# print(\"deep copy a:\")\n",
    "# print(a)\n",
    "# print(\"deep copy d:\")\n",
    "# print(d)\n",
    "\n",
    "# shadow copy from numpy to tensor\n",
    "a[0, 0, 0] = 5.0\n",
    "e = torch.as_tensor(a)\n",
    "e[0, 0, 0] = 1.0\n",
    "# print(\"shadow copy a:\")\n",
    "# print(a)\n",
    "# print(\"shadow copy e:\")\n",
    "# print(e)\n"
   ]
  }
 ],
 "metadata": {
  "interpreter": {
   "hash": "c0bc5b6b673ba956011dfbddc41a69f69f4172bb3f9011bcca6d5b6977ca27fe"
  },
  "kernelspec": {
   "display_name": "Python 3.7.9 64-bit",
   "language": "python",
   "name": "python3"
  },
  "language_info": {
   "codemirror_mode": {
    "name": "ipython",
    "version": 3
   },
   "file_extension": ".py",
   "mimetype": "text/x-python",
   "name": "python",
   "nbconvert_exporter": "python",
   "pygments_lexer": "ipython3",
   "version": "3.7.9"
  },
  "orig_nbformat": 4
 },
 "nbformat": 4,
 "nbformat_minor": 2
}
