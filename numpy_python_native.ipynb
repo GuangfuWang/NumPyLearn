{
 "cells": [
  {
   "cell_type": "code",
   "execution_count": 5,
   "metadata": {},
   "outputs": [
    {
     "name": "stdout",
     "output_type": "stream",
     "text": [
      "array('h', [1, 1, 1, 1, 1])\n",
      "21.7 ms ± 372 µs per loop (mean ± std. dev. of 7 runs, 10 loops each)\n",
      "192 ms ± 584 µs per loop (mean ± std. dev. of 7 runs, 10 loops each)\n",
      "159 ns ± 0.89 ns per loop (mean ± std. dev. of 7 runs, 10000000 loops each)\n"
     ]
    }
   ],
   "source": [
    "import array\n",
    "import numpy as np\n",
    "\n",
    "\n",
    "naive_b = array.array('h',[1]**5)\n",
    "print(naive_b)\n",
    "# native python arrays are not same as numpy arrays.\n",
    "# generally there are three ways for conversion.\n",
    "naive_array = array.array('d', [0]*12000000)\n",
    "\n",
    "# direct conversion. time = 21.9ms\n",
    "%timeit numpy_array = np.array(naive_array)\n",
    "# print(numpy_array)\n",
    "\n",
    "# use fromiter for conversion. time = 192ms on my machine.\n",
    "%timeit sec_array = np.fromiter(naive_array, dtype=np.float32)\n",
    "# print(sec_array)\n",
    "\n",
    "# use frombuffer function will accelerate conversion by a great magrain.\n",
    "# on my machine time = 150ns, which is almost 1000 faster than fromiter function call.\n",
    "%timeit third_array = np.frombuffer(naive_array)\n"
   ]
  }
 ],
 "metadata": {
  "interpreter": {
   "hash": "c0bc5b6b673ba956011dfbddc41a69f69f4172bb3f9011bcca6d5b6977ca27fe"
  },
  "kernelspec": {
   "display_name": "Python 3.7.9 64-bit",
   "language": "python",
   "name": "python3"
  },
  "language_info": {
   "codemirror_mode": {
    "name": "ipython",
    "version": 3
   },
   "file_extension": ".py",
   "mimetype": "text/x-python",
   "name": "python",
   "nbconvert_exporter": "python",
   "pygments_lexer": "ipython3",
   "version": "3.7.9"
  },
  "orig_nbformat": 4
 },
 "nbformat": 4,
 "nbformat_minor": 2
}
