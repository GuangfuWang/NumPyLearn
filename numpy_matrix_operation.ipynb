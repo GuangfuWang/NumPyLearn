{
 "cells": [
  {
   "cell_type": "code",
   "execution_count": 15,
   "metadata": {},
   "outputs": [
    {
     "name": "stdout",
     "output_type": "stream",
     "text": [
      "10.999999999999993\n",
      "[[-0.09090909  2.27272727 -1.72727273]\n",
      " [ 0.         -1.          1.        ]\n",
      " [ 0.18181818  0.45454545 -0.54545455]]\n",
      "[ 2.36363636 -1.          1.27272727]\n",
      "[ 8.32182538+0.j -1.32182538+0.j -1.        +0.j]\n",
      "[[-7.29352613e-01 -9.37902146e-01  9.28476691e-01]\n",
      " [-4.55609116e-01  3.37053835e-01 -3.71390676e-01]\n",
      " [-5.10357815e-01  8.20626387e-02 -6.08513425e-16]]\n",
      "[[ 1.00000000e+00  4.44089210e-16 -6.66133815e-16]\n",
      " [ 1.66533454e-16  1.00000000e+00 -5.55111512e-16]\n",
      " [ 1.66533454e-16  4.44089210e-16  1.00000000e+00]]\n"
     ]
    }
   ],
   "source": [
    "import numpy as np\n",
    "from scipy import linalg\n",
    "\n",
    "# matrix determinant\n",
    "a = np.array([[1, 5, 6], [2, 4, 1], [2, 5, 1]], dtype=np.int32)\n",
    "b = linalg.det(a)\n",
    "print(b)\n",
    "\n",
    "# matrix inverse\n",
    "b = linalg.inv(a)\n",
    "print(b)\n",
    "\n",
    "# matrix solver\n",
    "z = np.array([5, 2, 1])\n",
    "print(linalg.solve(a, z))\n",
    "\n",
    "# eigen values and eigen functions\n",
    "eigen_value, eigen_vector = linalg.eig(a)\n",
    "print(eigen_value)\n",
    "print(eigen_vector)\n",
    "\n",
    "# matrix multiply.\n",
    "print(a @ b)\n",
    "\n",
    "# many more about optimize and solve module...\n"
   ]
  }
 ],
 "metadata": {
  "interpreter": {
   "hash": "c0bc5b6b673ba956011dfbddc41a69f69f4172bb3f9011bcca6d5b6977ca27fe"
  },
  "kernelspec": {
   "display_name": "Python 3.7.9 64-bit",
   "language": "python",
   "name": "python3"
  },
  "language_info": {
   "codemirror_mode": {
    "name": "ipython",
    "version": 3
   },
   "file_extension": ".py",
   "mimetype": "text/x-python",
   "name": "python",
   "nbconvert_exporter": "python",
   "pygments_lexer": "ipython3",
   "version": "3.7.9"
  },
  "orig_nbformat": 4
 },
 "nbformat": 4,
 "nbformat_minor": 2
}
